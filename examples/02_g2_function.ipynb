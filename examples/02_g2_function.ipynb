{
 "cells": [
  {
   "cell_type": "code",
   "execution_count": 1,
   "metadata": {
    "collapsed": false
   },
   "outputs": [],
   "source": [
    "import numpy as np\n",
    "from matplotlib import pyplot as plt\n",
    "from scipy.optimize import curve_fit\n",
    "import hdf5plugin\n",
    "import h5py\n",
    "\n",
    "import sys\n",
    "import os\n",
    "\n",
    "sys.path.insert(0, 'src/')\n",
    "from temporal_autocorrelation import *\n",
    "from mask_tools import * \n",
    "from fit_tools import *\n",
    "from parameters import *\n",
    "\n",
    "plot_save=False"
   ]
  },
  {
   "cell_type": "markdown",
   "metadata": {},
   "source": [
    "### open hdf5 file "
   ]
  },
  {
   "cell_type": "markdown",
   "metadata": {},
   "source": [
    "Note that the hdf5plugin must be installed (pip install hdf5plugin)"
   ]
  },
  {
   "cell_type": "code",
   "execution_count": 2,
   "metadata": {
    "collapsed": false
   },
   "outputs": [],
   "source": [
    "file_name = 'lda_dp52_00028_data_000001.h5'\n",
    "file_path = '../data/lda_dp52/'+file_name\n",
    "h5file = h5py.File(file_path, 'r')\n",
    "data = h5file['entry/data/data/']"
   ]
  },
  {
   "cell_type": "code",
   "execution_count": 3,
   "metadata": {
    "collapsed": true
   },
   "outputs": [],
   "source": [
    "avg_data = np.sum(data,axis=0)/float(data.shape[0])"
   ]
  },
  {
   "cell_type": "markdown",
   "metadata": {},
   "source": [
    "### load mask and parameters"
   ]
  },
  {
   "cell_type": "code",
   "execution_count": 4,
   "metadata": {
    "collapsed": false
   },
   "outputs": [],
   "source": [
    "mask = np.load('masks/eiger_mask.npy')\n",
    "dpix,Ldet,center  = eiger_parameters()"
   ]
  },
  {
   "cell_type": "markdown",
   "metadata": {
    "collapsed": false
   },
   "source": [
    "### temporal autocorrelation g2"
   ]
  },
  {
   "cell_type": "markdown",
   "metadata": {},
   "source": [
    "reduce array size to speed up the calculation"
   ]
  },
  {
   "cell_type": "code",
   "execution_count": null,
   "metadata": {
    "collapsed": false
   },
   "outputs": [],
   "source": [
    "sxy = 300\n",
    "dx = [center[0]-sxy,center[0]+sxy]\n",
    "dy = [center[1]-sxy,center[1]+sxy]\n",
    "\n",
    "data_small = data[:,dx[0]:dx[1],dy[0]:dy[1]]\n",
    "center_small = [center[0]-dx[0],center[1]-dy[0]]\n",
    "mask_small = mask[dx[0]:dx[1],dy[0]:dy[1]]"
   ]
  },
  {
   "cell_type": "markdown",
   "metadata": {},
   "source": [
    "calculate g2"
   ]
  },
  {
   "cell_type": "code",
   "execution_count": null,
   "metadata": {
    "collapsed": false
   },
   "outputs": [],
   "source": [
    "qt,dt,g2,r_mask = calculate_g2(data_small,mask=mask_small,center=center_small)"
   ]
  },
  {
   "cell_type": "markdown",
   "metadata": {
    "collapsed": false
   },
   "source": [
    "make plots"
   ]
  },
  {
   "cell_type": "code",
   "execution_count": null,
   "metadata": {
    "collapsed": false
   },
   "outputs": [],
   "source": [
    "plt.figure(figsize=[8,3])\n",
    "plt.subplot(1,2,1)\n",
    "plt_data = np.log10(avg_data[dx[0]:dx[1],dy[0]:dy[1]]*mask_small)\n",
    "plt.imshow(plt_data*mask_small,vmax=3,vmin=-1,origin='lower',cmap='inferno')\n",
    "plt.colorbar()\n",
    "plt.title(file_name,size=8)\n",
    "\n",
    "plt.subplot(1,2,2)\n",
    "plt.imshow(r_mask,origin='lower',cmap='inferno')\n",
    "plt.title(file_name,size=8)\n",
    "plt.colorbar()\n",
    "plt.show()"
   ]
  },
  {
   "cell_type": "code",
   "execution_count": null,
   "metadata": {
    "collapsed": false
   },
   "outputs": [],
   "source": [
    "plt.figure(figsize=[4,3])\n",
    "\n",
    "i=6\n",
    "plt.plot(dt,g2[:,i],'o',alpha=0.5,c='black',ms=3) \n",
    "\n",
    "popt,x,curve,perr = fit(stretched_exponential,dt,g2[:,i],p0=[0.06,1e3,1])\n",
    "plt.plot(x,curve,c='red',ls='-',lw=1,label=r' $\\tau$ =%d s, $\\beta$ =%.2f'%(popt[1],popt[2]))\n",
    "popt,x,curve,perr = fit(exponential,dt[1:],g2[1:,i],p0=[g2[1,i],1e3])\n",
    "plt.plot(x,curve,c='green',ls='--',lw=1,label=r'$\\tau$ =%d s'%(popt[1]))\n",
    "\n",
    "plt.xlabel(r'$\\delta t$ (s)',size=16)\n",
    "plt.ylabel(r'$g_{2}(Q,dt)$ ',size=16)\n",
    "plt.xscale('log',nonposy='clip')\n",
    "plt.xlim([1,1e4])\n",
    "plt.ylim([1,1.08])\n",
    "plt.legend(frameon=False,loc='lower left', prop={'size': 10})\n",
    "plt.title(r'Q = %.3f$\\rm \\AA^{-1}$'%qt[i],size=8)\n",
    "plt.tight_layout()\n",
    "\n",
    "plt.show()\n"
   ]
  },
  {
   "cell_type": "code",
   "execution_count": null,
   "metadata": {
    "collapsed": false
   },
   "outputs": [],
   "source": [
    "n = g2.shape[1]\n",
    "tau,beta,contrast = np.zeros(n),np.zeros(n),np.zeros(n)\n",
    "for i in range(n):\n",
    "    popt,x,curve,perr = fit(stretched_exponential,dt,g2[:,i],p0=[0.06,1e3,1])\n",
    "    contrast[i],tau[i],beta[i]=popt\n",
    "\n",
    "plt.subplot(2,2,1)\n",
    "plt.plot(qt,contrast,'o')\n",
    "\n",
    "plt.subplot(2,2,2)\n",
    "plt.plot(qt,tau,'o')\n",
    "\n",
    "plt.subplot(2,2,3)\n",
    "plt.plot(qt,beta,'o')\n",
    "\n",
    "plt.subplot(2,2,4)\n",
    "plt.plot(qt*qt*1e4,1/tau,'o')\n",
    "\n",
    "plt.tight_layout()\n",
    "plt.show()"
   ]
  },
  {
   "cell_type": "markdown",
   "metadata": {},
   "source": [
    "Save results"
   ]
  },
  {
   "cell_type": "code",
   "execution_count": null,
   "metadata": {
    "collapsed": true
   },
   "outputs": [],
   "source": [
    "if plot_save==True:\n",
    "    plt.savefig('/Users/fivos/Desktop/fig.png',dpi=300)"
   ]
  }
 ],
 "metadata": {
  "kernelspec": {
   "display_name": "Python 2",
   "language": "python",
   "name": "python2"
  },
  "language_info": {
   "codemirror_mode": {
    "name": "ipython",
    "version": 2
   },
   "file_extension": ".py",
   "mimetype": "text/x-python",
   "name": "python",
   "nbconvert_exporter": "python",
   "pygments_lexer": "ipython2",
   "version": "2.7.10"
  }
 },
 "nbformat": 4,
 "nbformat_minor": 1
}
